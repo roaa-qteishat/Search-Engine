{
  "nbformat": 4,
  "nbformat_minor": 0,
  "metadata": {
    "colab": {
      "name": "Search Engine.ipynb",
      "provenance": [],
      "authorship_tag": "ABX9TyMZ7r6CVG/MLfwS/el36TNc",
      "include_colab_link": true
    },
    "kernelspec": {
      "name": "python3",
      "display_name": "Python 3"
    },
    "language_info": {
      "name": "python"
    }
  },
  "cells": [
    {
      "cell_type": "markdown",
      "metadata": {
        "id": "view-in-github",
        "colab_type": "text"
      },
      "source": [
        "<a href=\"https://colab.research.google.com/github/roaa-qteishat/Search-Engine/blob/main/Search_Engine.ipynb\" target=\"_parent\"><img src=\"https://colab.research.google.com/assets/colab-badge.svg\" alt=\"Open In Colab\"/></a>"
      ]
    },
    {
      "cell_type": "markdown",
      "source": [
        "ou’re working on a search engine. Watch your back Google!\n",
        "\n",
        "The given code takes a text and a word as input and passes them to a function called search().\n",
        "\n",
        "The search() function should return \"Word found\" if the word is present in the text, or \"Word not found\", if it’s not."
      ],
      "metadata": {
        "id": "FQ5sYxHWVumj"
      }
    },
    {
      "cell_type": "code",
      "execution_count": 1,
      "metadata": {
        "colab": {
          "base_uri": "https://localhost:8080/"
        },
        "id": "-vc_bGPDVXYp",
        "outputId": "5a9b7ff8-29a9-41f3-c6dd-166249dc15c2"
      },
      "outputs": [
        {
          "output_type": "stream",
          "name": "stdout",
          "text": [
            "This is awesome\n",
            "awesome\n",
            "Word found\n"
          ]
        }
      ],
      "source": [
        "text = input()\n",
        "word = input()\n",
        "def search(text,word):\n",
        " if word in text:\n",
        "  return \"Word found\"\n",
        " elif word not in text:\n",
        "  return \"Word not found\"\n",
        "  \n",
        "print(search(text, word))"
      ]
    }
  ]
}